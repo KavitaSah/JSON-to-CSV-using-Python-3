{
 "cells": [
  {
   "cell_type": "code",
   "execution_count": 14,
   "metadata": {},
   "outputs": [],
   "source": [
    "import json\n",
    "import csv\n",
    "with open ('/Users/kavitasah/Downloads/ja3log', 'r') as f:\n",
    "    file=f.readlines()  #notice s in readlines, readline will only read one block, readlines read all the blocks\n",
    "datalist = []\n",
    "for entry in file:\n",
    "    data = json.loads(entry)\n",
    "    datalist.append(data)\n",
    "csvdata =  open('/Users/kavitasah/Desktop/ja3log.csv', 'w')\n",
    "csvwriter= csv.writer(csvdata) #create the csv writer object\n",
    "\n",
    "for i in range(len(datalist)):\n",
    "    d = datalist[i]\n",
    "    if i==0:\n",
    "        header='Time', 'JA3Hash', 'JA3Text', 'UserAgent'\n",
    "        csvwriter.writerow(header)\n",
    "    try:\n",
    "        csvwriter.writerow([d['Time'],\n",
    "         d['TLS']['JA3Hash'],\n",
    "         d['TLS']['JA3Text'],\n",
    "         d['UserAgent']])\n",
    "    except:\n",
    "        continue\n",
    "csvdata.close()"
   ]
  },
  {
   "cell_type": "code",
   "execution_count": null,
   "metadata": {},
   "outputs": [],
   "source": []
  },
  {
   "cell_type": "code",
   "execution_count": null,
   "metadata": {},
   "outputs": [],
   "source": []
  }
 ],
 "metadata": {
  "kernelspec": {
   "display_name": "Python 3",
   "language": "python",
   "name": "python3"
  },
  "language_info": {
   "codemirror_mode": {
    "name": "ipython",
    "version": 3
   },
   "file_extension": ".py",
   "mimetype": "text/x-python",
   "name": "python",
   "nbconvert_exporter": "python",
   "pygments_lexer": "ipython3",
   "version": "3.7.1"
  }
 },
 "nbformat": 4,
 "nbformat_minor": 2
}
